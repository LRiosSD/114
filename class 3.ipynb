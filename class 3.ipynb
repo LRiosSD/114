{
 "cells": [
  {
   "cell_type": "code",
   "execution_count": 1,
   "id": "4fcfeaa1",
   "metadata": {},
   "outputs": [],
   "source": [
    "# class Queue2Stacks:\n",
    "#     def __init__(self):\n",
    "#         self.stack1=[]\n",
    "#         self.stack2=[]\n",
    "        \n",
    "#     def enqueue(self, element):\n",
    "#         pass\n",
    "    \n",
    "#     def dequeue(self):\n",
    "#         pass\n",
    "    "
   ]
  },
  {
   "cell_type": "code",
   "execution_count": 2,
   "id": "67fdf13a",
   "metadata": {},
   "outputs": [],
   "source": [
    "# def test():\n",
    "#     q = Queue2Stacks()\n",
    "    \n",
    "#     for i in range(5):\n",
    "#         q.enqueue(i)\n",
    "        \n",
    "#     for i in range(5):\n",
    "#         print(q.dequeue())"
   ]
  },
  {
   "cell_type": "code",
   "execution_count": 3,
   "id": "b5d9da00",
   "metadata": {},
   "outputs": [],
   "source": [
    "# ...\n",
    "# method enqueue received \"element\" as parameter:\n",
    "#     push element to stack1\n",
    "\n",
    "#  method dequeue:\n",
    "#     while stack1 is not empty:\n",
    "#          element = stack.pop()\n",
    "#          push element to stack 2\n",
    "#      return stack2.pop()\n",
    "# ... "
   ]
  },
  {
   "cell_type": "code",
   "execution_count": 11,
   "id": "ee21a7b3",
   "metadata": {},
   "outputs": [
    {
     "ename": "NameError",
     "evalue": "name 'pop' is not defined",
     "output_type": "error",
     "traceback": [
      "\u001b[0;31m---------------------------------------------------------------------------\u001b[0m",
      "\u001b[0;31mNameError\u001b[0m                                 Traceback (most recent call last)",
      "Input \u001b[0;32mIn [11]\u001b[0m, in \u001b[0;36m<cell line: 21>\u001b[0;34m()\u001b[0m\n\u001b[1;32m     19\u001b[0m     \u001b[38;5;28;01mfor\u001b[39;00m i \u001b[38;5;129;01min\u001b[39;00m \u001b[38;5;28mrange\u001b[39m(\u001b[38;5;241m3\u001b[39m):\n\u001b[1;32m     20\u001b[0m         \u001b[38;5;28mprint\u001b[39m(q\u001b[38;5;241m.\u001b[39mdequeue())\n\u001b[0;32m---> 21\u001b[0m \u001b[43mtest\u001b[49m\u001b[43m(\u001b[49m\u001b[43m)\u001b[49m\n",
      "Input \u001b[0;32mIn [11]\u001b[0m, in \u001b[0;36mtest\u001b[0;34m()\u001b[0m\n\u001b[1;32m     18\u001b[0m     q\u001b[38;5;241m.\u001b[39menqueue(i)\n\u001b[1;32m     19\u001b[0m \u001b[38;5;28;01mfor\u001b[39;00m i \u001b[38;5;129;01min\u001b[39;00m \u001b[38;5;28mrange\u001b[39m(\u001b[38;5;241m3\u001b[39m):\n\u001b[0;32m---> 20\u001b[0m     \u001b[38;5;28mprint\u001b[39m(\u001b[43mq\u001b[49m\u001b[38;5;241;43m.\u001b[39;49m\u001b[43mdequeue\u001b[49m\u001b[43m(\u001b[49m\u001b[43m)\u001b[49m)\n",
      "Input \u001b[0;32mIn [11]\u001b[0m, in \u001b[0;36mQueue2Stacks.dequeue\u001b[0;34m(self)\u001b[0m\n\u001b[1;32m     11\u001b[0m     element \u001b[38;5;241m=\u001b[39m \u001b[38;5;28mself\u001b[39m\u001b[38;5;241m.\u001b[39mstack1\u001b[38;5;241m.\u001b[39mpop()\n\u001b[1;32m     12\u001b[0m     \u001b[38;5;28mself\u001b[39m\u001b[38;5;241m.\u001b[39mstack2\u001b[38;5;241m.\u001b[39mappend(element)\n\u001b[0;32m---> 13\u001b[0m \u001b[38;5;28;01mreturn\u001b[39;00m \u001b[38;5;28mself\u001b[39m\u001b[38;5;241m.\u001b[39mstack2(\u001b[43mpop\u001b[49m)\n",
      "\u001b[0;31mNameError\u001b[0m: name 'pop' is not defined"
     ]
    }
   ],
   "source": [
    "class Queue2Stacks:\n",
    "    def __init__(self):\n",
    "        self.stack1 = []\n",
    "        self.stack2 = []\n",
    "        \n",
    "    def enqueue(self,element):\n",
    "        self.stack1.append(element)\n",
    "\n",
    "    def dequeue(self):\n",
    "        while self.stack1:\n",
    "            element = self.stack1.pop()\n",
    "            self.stack2.append(element)\n",
    "        return self.stack2(pop)\n",
    "        \n",
    "def test():\n",
    "    q = Queue2Stacks()\n",
    "    for i in range(3):\n",
    "        q.enqueue(i)\n",
    "    for i in range(3):\n",
    "        print(q.dequeue())\n",
    "        \n",
    "test()"
   ]
  },
  {
   "cell_type": "code",
   "execution_count": 12,
   "id": "9a0f9783",
   "metadata": {},
   "outputs": [
    {
     "data": {
      "text/plain": [
       "3628800"
      ]
     },
     "execution_count": 12,
     "metadata": {},
     "output_type": "execute_result"
    }
   ],
   "source": [
    "def fact(n):\n",
    "    if n == 0:\n",
    "        return 1\n",
    "    return n * fact(n-1)\n",
    "fact(10)"
   ]
  },
  {
   "cell_type": "code",
   "execution_count": 13,
   "id": "ecc85b5b",
   "metadata": {},
   "outputs": [],
   "source": [
    "#  we know tht a fibonacci number is the sum of the two preceding\n",
    "# nubmers in a series.  f(n) = f(n-1) + f(n-2) ...\n",
    "# a good base case wold be when n<2 because any number below 2 \n",
    "# in athe series is simply that same number\n",
    "\n",
    "def fib(n):\n",
    "    if n<2: #base case\n",
    "        return n\n",
    "    return fib(n-1)+ fib(n-2)\n",
    "# warning test this with  number below 50!"
   ]
  },
  {
   "cell_type": "code",
   "execution_count": 14,
   "id": "782ec018",
   "metadata": {},
   "outputs": [
    {
     "data": {
      "text/plain": [
       "832040"
      ]
     },
     "execution_count": 14,
     "metadata": {},
     "output_type": "execute_result"
    }
   ],
   "source": [
    "fib(30)"
   ]
  },
  {
   "cell_type": "code",
   "execution_count": 15,
   "id": "459351ae",
   "metadata": {},
   "outputs": [
    {
     "data": {
      "text/plain": [
       "21"
      ]
     },
     "execution_count": 15,
     "metadata": {},
     "output_type": "execute_result"
    }
   ],
   "source": [
    "fib(8)"
   ]
  },
  {
   "cell_type": "code",
   "execution_count": 16,
   "id": "369fd316",
   "metadata": {},
   "outputs": [
    {
     "data": {
      "text/plain": [
       "354224848179261915075"
      ]
     },
     "execution_count": 16,
     "metadata": {},
     "output_type": "execute_result"
    }
   ],
   "source": [
    "from functools import lru_cache\n",
    "\n",
    "@lru_cache\n",
    "def fib_2(n):\n",
    "    if n<2:\n",
    "        return n\n",
    "    return fib_2(n-1)+fib_2(n-2)\n",
    "fib_2(100)"
   ]
  },
  {
   "cell_type": "code",
   "execution_count": 17,
   "id": "3a7edaba",
   "metadata": {},
   "outputs": [],
   "source": [
    "fib_numbers = {}\n",
    "\n",
    "def fib_3(n):\n",
    "    if n in fib_numbers.keys():\n",
    "        return fib_numbers.get(n)\n",
    "    else:\n",
    "        if n < 2:\n",
    "            return n\n",
    "        fib_numbers[n] = fib_3(n-1)+ fib_3(n-2)\n",
    "        return fib_numbers.get(n)\n",
    "    "
   ]
  },
  {
   "cell_type": "code",
   "execution_count": 20,
   "id": "a6902d57",
   "metadata": {},
   "outputs": [
    {
     "data": {
      "text/plain": [
       "354224848179261915075"
      ]
     },
     "execution_count": 20,
     "metadata": {},
     "output_type": "execute_result"
    }
   ],
   "source": [
    "fib_3(100)"
   ]
  },
  {
   "cell_type": "code",
   "execution_count": 21,
   "id": "9656161c",
   "metadata": {},
   "outputs": [],
   "source": [
    "class Node:\n",
    "    def __init__(self,data):\n",
    "        self.data = data\n",
    "        self.next = None"
   ]
  },
  {
   "cell_type": "code",
   "execution_count": 30,
   "id": "85bf8eaf",
   "metadata": {},
   "outputs": [
    {
     "name": "stdout",
     "output_type": "stream",
     "text": [
      "0\n",
      "1\n",
      "2\n",
      "[0, 1, 2, 3, 4]\n"
     ]
    }
   ],
   "source": [
    "\n",
    "head = Node(0)\n",
    "node1 = Node(1)\n",
    "head.next = node1\n",
    "\n",
    "node2 = Node(2)\n",
    "node1.next = node2\n",
    "\n",
    "current = head\n",
    "while current: # this is a shorthand for: current !=None\n",
    "    print(current.data)\n",
    "    current = current.next\n",
    "reg_python_list = [0, 1, 2, 3, 4]\n",
    "print (reg_python_list)"
   ]
  },
  {
   "cell_type": "code",
   "execution_count": 33,
   "id": "f4bd0886",
   "metadata": {},
   "outputs": [],
   "source": [
    "class SinglyLinkedList:\n",
    "    def __init__(self):\n",
    "        self.head = None\n",
    "    \n",
    "    def append(self, item):\n",
    "        if not self.head:\n",
    "            self.head = Node(item)\n",
    "            \n",
    "        else: \n",
    "            current = self.head\n",
    "            while current.next:\n",
    "                current = current.next\n",
    "            current.next = Node(item)\n",
    "            \n",
    "    def __str__(self):\n",
    "        out_str = \"[\"\n",
    "        current = self.head\n",
    "        \n",
    "        while current.next:\n",
    "            out_str += \"%s,\" % str(current.data)\n",
    "            current = current.next\n",
    "        out_str += \"%s]\" %  current.data\n",
    "        return out_str"
   ]
  },
  {
   "cell_type": "code",
   "execution_count": 34,
   "id": "41454444",
   "metadata": {},
   "outputs": [
    {
     "name": "stdout",
     "output_type": "stream",
     "text": [
      "[0,1,2,3,4]\n"
     ]
    }
   ],
   "source": [
    "sll = SinglyLinkedList()\n",
    "\n",
    "for i in range(5):\n",
    "    sll.append(i)\n",
    "    \n",
    "print(sll)"
   ]
  },
  {
   "cell_type": "code",
   "execution_count": null,
   "id": "4245bc61",
   "metadata": {},
   "outputs": [],
   "source": []
  }
 ],
 "metadata": {
  "kernelspec": {
   "display_name": "Python 3 (ipykernel)",
   "language": "python",
   "name": "python3"
  },
  "language_info": {
   "codemirror_mode": {
    "name": "ipython",
    "version": 3
   },
   "file_extension": ".py",
   "mimetype": "text/x-python",
   "name": "python",
   "nbconvert_exporter": "python",
   "pygments_lexer": "ipython3",
   "version": "3.8.10"
  }
 },
 "nbformat": 4,
 "nbformat_minor": 5
}
