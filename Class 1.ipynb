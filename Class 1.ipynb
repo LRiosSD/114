{
 "cells": [
  {
   "cell_type": "code",
   "execution_count": 1,
   "id": "21e9a375",
   "metadata": {},
   "outputs": [
    {
     "name": "stdout",
     "output_type": "stream",
     "text": [
      "h\n",
      "e\n",
      "l\n",
      "l\n",
      "o\n",
      ",\n",
      " \n",
      "w\n",
      "o\n",
      "r\n",
      "l\n",
      "d\n"
     ]
    }
   ],
   "source": [
    "# This is a \"for each\" loop\n",
    "for letter in \"hello, world\":\n",
    "    print(letter)"
   ]
  },
  {
   "cell_type": "markdown",
   "id": "42242bd7",
   "metadata": {},
   "source": [
    "# Problem 1\n",
    "## Anagram check.\n",
    "### Check if two strings are anagrams of each other considering the following:\n",
    "#### Given two strings (strings_a and string_b) we must first validate that these are of equal length and that they use the same characters in the exact same amount of times.\n",
    "#### For example: cars and scar are the anagrams but cars and scaar ar not: Similarly, scar and sccr are not anagrams of each other"
   ]
  },
  {
   "cell_type": "code",
   "execution_count": 2,
   "id": "97571f9b",
   "metadata": {},
   "outputs": [],
   "source": [
    "# def is_anagram(string_a, string_b):\n",
    "#     return sorted(string_a) == sorted(string_b)"
   ]
  },
  {
   "cell_type": "code",
   "execution_count": 3,
   "id": "5c51ab6f",
   "metadata": {},
   "outputs": [
    {
     "data": {
      "text/plain": [
       "False"
      ]
     },
     "execution_count": 3,
     "metadata": {},
     "output_type": "execute_result"
    }
   ],
   "source": [
    "is_anagram(\"heart\", \"sccr\")"
   ]
  },
  {
   "cell_type": "code",
   "execution_count": 4,
   "id": "2064b181",
   "metadata": {},
   "outputs": [
    {
     "data": {
      "text/plain": [
       "True"
      ]
     },
     "execution_count": 4,
     "metadata": {},
     "output_type": "execute_result"
    }
   ],
   "source": [
    "is_anagram(\"heart\", \"earth\")"
   ]
  },
  {
   "cell_type": "code",
   "execution_count": 5,
   "id": "c29ca002",
   "metadata": {},
   "outputs": [
    {
     "ename": "TypeError",
     "evalue": "is_anagram() missing 1 required positional argument: 'string_b'",
     "output_type": "error",
     "traceback": [
      "\u001b[0;31m---------------------------------------------------------------------------\u001b[0m",
      "\u001b[0;31mTypeError\u001b[0m                                 Traceback (most recent call last)",
      "Input \u001b[0;32mIn [5]\u001b[0m, in \u001b[0;36m<cell line: 1>\u001b[0;34m()\u001b[0m\n\u001b[0;32m----> 1\u001b[0m \u001b[43mis_anagram\u001b[49m\u001b[43m(\u001b[49m\u001b[38;5;124;43m\"\u001b[39;49m\u001b[38;5;124;43mcars\u001b[39;49m\u001b[38;5;124;43m\"\u001b[39;49m\u001b[43m,\u001b[49m\u001b[43m \u001b[49m\u001b[43m)\u001b[49m\n",
      "\u001b[0;31mTypeError\u001b[0m: is_anagram() missing 1 required positional argument: 'string_b'"
     ]
    }
   ],
   "source": [
    "is_anagram(\"cars\", )"
   ]
  },
  {
   "cell_type": "code",
   "execution_count": 6,
   "id": "293d3e7d",
   "metadata": {},
   "outputs": [
    {
     "data": {
      "text/plain": [
       "True"
      ]
     },
     "execution_count": 6,
     "metadata": {},
     "output_type": "execute_result"
    }
   ],
   "source": [
    "is_anagram(\"cars\", \"scar\")"
   ]
  },
  {
   "cell_type": "code",
   "execution_count": 7,
   "id": "7f882d3e",
   "metadata": {},
   "outputs": [],
   "source": [
    "#pseudocode\n",
    "# function is_anagram, receive as params -> string_a. string_b:\n",
    "# length_of_string_a = get_length_of(string_a)\n",
    "# length_of_string_b = get_lenth_of(string_b)\n",
    "# if length_of_string_a is not equal to length_of_string_b:    \n",
    "#  return False\n",
    "#  anagram_jumble = new String()\n",
    "#  loop for length of string_a:\n",
    "# "
   ]
  },
  {
   "cell_type": "code",
   "execution_count": 10,
   "id": "604efa8f",
   "metadata": {},
   "outputs": [
    {
     "ename": "NameError",
     "evalue": "name 'out2' is not defined",
     "output_type": "error",
     "traceback": [
      "\u001b[0;31m---------------------------------------------------------------------------\u001b[0m",
      "\u001b[0;31mNameError\u001b[0m                                 Traceback (most recent call last)",
      "Input \u001b[0;32mIn [10]\u001b[0m, in \u001b[0;36m<cell line: 6>\u001b[0;34m()\u001b[0m\n\u001b[1;32m      5\u001b[0m out \u001b[38;5;241m=\u001b[39m \u001b[38;5;241m0\u001b[39m\n\u001b[1;32m      6\u001b[0m \u001b[38;5;28;01mfor\u001b[39;00m letter \u001b[38;5;129;01min\u001b[39;00m \u001b[38;5;124m\"\u001b[39m\u001b[38;5;124mcars\u001b[39m\u001b[38;5;124m\"\u001b[39m:\n\u001b[0;32m----> 7\u001b[0m     out2 \u001b[38;5;241m+\u001b[39m\u001b[38;5;241m=\u001b[39m \u001b[38;5;28mord\u001b[39m(letter)\n\u001b[1;32m      8\u001b[0m out2 \u001b[38;5;241m=\u001b[39m \u001b[38;5;241m0\u001b[39m\n\u001b[1;32m      9\u001b[0m \u001b[38;5;28;01mfor\u001b[39;00m letter \u001b[38;5;129;01min\u001b[39;00m \u001b[38;5;124m\"\u001b[39m\u001b[38;5;124mscar\u001b[39m\u001b[38;5;124m\"\u001b[39m:\n",
      "\u001b[0;31mNameError\u001b[0m: name 'out2' is not defined"
     ]
    }
   ],
   "source": [
    "# keys = [\"a\", \"b\", \"c, ... \"z\"]\n",
    "# values = [1, 2, 3, ... 26]\n",
    "# string_a = \"cars\"\n",
    "# sting_b = \"scar\"\n",
    "out = 0\n",
    "for letter in \"cars\":\n",
    "    out2 += ord(letter)\n",
    "out2 = 0\n",
    "for letter in \"scar\":\n",
    "    out2 += ord(letter)\n",
    "    \n",
    "print (out == out2)\n"
   ]
  },
  {
   "cell_type": "code",
   "execution_count": 1,
   "id": "c2b26d93",
   "metadata": {
    "scrolled": true
   },
   "outputs": [
    {
     "name": "stdout",
     "output_type": "stream",
     "text": [
      "True\n"
     ]
    }
   ],
   "source": [
    "# keys = [\"a\", \"b\", \"c, ... \"z\"]\n",
    "# values = [1, 2, 3, ... 26]\n",
    "# string_a = \"cars\"\n",
    "# sting_b = \"scar\"\n",
    "\n",
    "out = 0\n",
    "for letter in \"cars\":\n",
    "    out += ord(letter)\n",
    "    \n",
    "out2 = 0\n",
    "for letter in \"scar\":\n",
    "    out2 += ord(letter)\n",
    "    \n",
    "print (out == out2)\n"
   ]
  },
  {
   "cell_type": "code",
   "execution_count": 22,
   "id": "ffaf3eee",
   "metadata": {},
   "outputs": [],
   "source": [
    "# def is_anagram(string_a, string_b):\n",
    "#     a = \"\".join(string_a.split())\n",
    "#     b = \"\".join(string_b.split())\n",
    "    \n",
    "#     if len(a) != len(b):\n",
    "#         return False\n",
    "#     else:\n",
    "#         new_a=a.lower()\n",
    "#         new_b=b.lower()\n",
    "        \n",
    "#     char_times_a = dict()\n",
    "#     char_times_b = dict()\n",
    "    \n",
    "#     for i in range(len(new_a)):\n",
    "#         if new_a[i] not in char_times_a.keys():\n",
    "#             char_times_a[new_a[i]] = 1\n",
    "#         else:\n",
    "#             char_times_a[new_a[i]] += 1\n",
    "            \n",
    "#         if new_b[i] not in char_times_b.keys():\n",
    "#             char_times_b[new_b[i]] = 1\n",
    "#         else:\n",
    "#             char_times_b[new_b[i]] +=1\n",
    "            \n",
    "#     return char_times_a == char_times_b\n",
    "\n",
    "def is_anagram(string_a, string_b):\n",
    "    string_a = (string_a.replace(\" \", \"\")).lower()\n",
    "    string_b = (string_a.replace(\" \", \"\")).lower()\n",
    "    \n",
    "    if len(string_a) != len(string_b):\n",
    "        return False\n",
    "    \n",
    "    char_times_a = dict()\n",
    "    char_times_b = dict()\n",
    "    \n",
    "    for i in range(len(string_a)):\n",
    "        \n",
    "        if string_a[i] not in char_times_a.keys():\n",
    "            char_times_a[string_a[i]] = 1\n",
    "        else:\n",
    "            char_times_a[string_a[i]] += 1\n",
    "            \n",
    "        if string_b[i] not in char_times_b.keys():\n",
    "            char_times_b[string_b[i]] = 1\n",
    "        else:\n",
    "            char_times_b[string_b[i]] +=1\n",
    "            \n",
    "    return char_times_a == char_times_b\n"
   ]
  },
  {
   "cell_type": "code",
   "execution_count": 15,
   "id": "e9e156f1",
   "metadata": {},
   "outputs": [
    {
     "data": {
      "text/plain": [
       "True"
      ]
     },
     "execution_count": 15,
     "metadata": {},
     "output_type": "execute_result"
    }
   ],
   "source": [
    "is_anagram(\"cars\", \"scar\")"
   ]
  },
  {
   "cell_type": "code",
   "execution_count": 18,
   "id": "45d8154b",
   "metadata": {},
   "outputs": [],
   "source": [
    "string_a = \"I am lord Voldemmort\"\n",
    "string_b = \"Tom Marvolo Riddle\"\n",
    "# hw challenge\n",
    "# find way to get is_anagram to return true for \n",
    "# these values"
   ]
  },
  {
   "cell_type": "code",
   "execution_count": 23,
   "id": "59b6425a",
   "metadata": {},
   "outputs": [
    {
     "data": {
      "text/plain": [
       "True"
      ]
     },
     "execution_count": 23,
     "metadata": {},
     "output_type": "execute_result"
    }
   ],
   "source": [
    "is_anagram(\"I am Lord Voldemort\", \"Tom Marvolo Riddle\")"
   ]
  },
  {
   "cell_type": "code",
   "execution_count": null,
   "id": "4f6930d0",
   "metadata": {},
   "outputs": [],
   "source": []
  }
 ],
 "metadata": {
  "kernelspec": {
   "display_name": "Python 3 (ipykernel)",
   "language": "python",
   "name": "python3"
  },
  "language_info": {
   "codemirror_mode": {
    "name": "ipython",
    "version": 3
   },
   "file_extension": ".py",
   "mimetype": "text/x-python",
   "name": "python",
   "nbconvert_exporter": "python",
   "pygments_lexer": "ipython3",
   "version": "3.8.10"
  }
 },
 "nbformat": 4,
 "nbformat_minor": 5
}
